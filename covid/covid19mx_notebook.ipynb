{
 "cells": [
  {
   "cell_type": "code",
   "execution_count": 63,
   "metadata": {
    "scrolled": true
   },
   "outputs": [],
   "source": [
    "from IPython.display import display, Markdown, Latex\n",
    "import datos.encabezado"
   ]
  },
  {
   "cell_type": "markdown",
   "metadata": {},
   "source": [
    "# 1. Cargar los datos"
   ]
  },
  {
   "cell_type": "markdown",
   "metadata": {},
   "source": [
    "## 1.1. Importar el módulo ```pandas```\n",
    "\n",
    "*Cargar o \"importar\" los datos en Python usando un paquete para el manejo de datos llamado \"Pandas\".*"
   ]
  },
  {
   "cell_type": "code",
   "execution_count": 64,
   "metadata": {},
   "outputs": [],
   "source": [
    "from pandas import read_csv"
   ]
  },
  {
   "cell_type": "markdown",
   "metadata": {},
   "source": [
    "## 1.2. Abrir la tabla de datos\n",
    "Abriremos la tabla de datos usando el paquete \"Pandas\" que acabamos de importar\n",
    "* Usaremos los datos en versión \".csv\".\n",
    "- Si quieren la versión más reciente de los datos:\n",
    "    1. Los deben bajar directamente de esta página: http://opendata.ecdc.europa.eu/covid19/casedistribution/csv/\n",
    "    2. Deben de nombrar el archivo como \"covid19.csv\"\n",
    "    3. También tendrán que bajar este proyecto a su computadora y hacerlo correr.  \n",
    "        **\\*Siempre me lleva unos días actualizarlo porque este es solo un proyecto por diversión.**"
   ]
  },
  {
   "cell_type": "markdown",
   "metadata": {},
   "source": [
    "### *1.2.1. La siguiente es la fecha de los datos que actualicé más recientemente:*"
   ]
  },
  {
   "cell_type": "code",
   "execution_count": 65,
   "metadata": {},
   "outputs": [
    {
     "data": {
      "text/plain": [
       "'20-04-2020'"
      ]
     },
     "execution_count": 65,
     "metadata": {},
     "output_type": "execute_result"
    }
   ],
   "source": [
    "# Extraemos la información del sub-módulo datos, del archivo encabezado\n",
    "from datos.encabezado import fecha_actualizacion\n",
    "fecha_actualizacion"
   ]
  },
  {
   "cell_type": "markdown",
   "metadata": {},
   "source": [
    "### *1.2.2. Y el siguiente archivo es la tabla de datos correspondiente:*"
   ]
  },
  {
   "cell_type": "code",
   "execution_count": 66,
   "metadata": {},
   "outputs": [
    {
     "data": {
      "text/plain": [
       "'covid19_20-04-2020_.csv'"
      ]
     },
     "execution_count": 66,
     "metadata": {},
     "output_type": "execute_result"
    }
   ],
   "source": [
    "from datos.encabezado import tabla_de_datos\n",
    "tabla_de_datos"
   ]
  },
  {
   "cell_type": "markdown",
   "metadata": {},
   "source": [
    "### *1.2.3. Abrimos los datos de todo el mundo y después nos enfocaremos en los datos de México.*"
   ]
  },
  {
   "cell_type": "code",
   "execution_count": 67,
   "metadata": {},
   "outputs": [
    {
     "data": {
      "text/markdown": [
       "_Tus datos del archivo `covid19_20-04-2020_.csv` están cargados_"
      ],
      "text/plain": [
       "<IPython.core.display.Markdown object>"
      ]
     },
     "metadata": {},
     "output_type": "display_data"
    }
   ],
   "source": [
    "folder_datos = 'datos/'\n",
    "\n",
    "datos_mundo = read_csv(folder_datos + tabla_de_datos)\n",
    "if not datos_mundo.empty:\n",
    "    display(Markdown(f\"\"\"_Tus datos del archivo `{tabla_de_datos}` están cargados_\"\"\"))"
   ]
  },
  {
   "cell_type": "markdown",
   "metadata": {},
   "source": [
    "# 2. Familiarizarnos con los datos\n",
    "*Los datos vienen en una tabla con varias columnas y filas. Cada columna tiene un nombre distinto, por ejemplo hay una para los nombres de los países, otra para la población del país, etc. Y las filas representan un día de la pandemia en cada país.*"
   ]
  },
  {
   "cell_type": "markdown",
   "metadata": {},
   "source": [
    "## 2.1. Antes de empezar\n",
    "\n",
    "*Antes de empezar, elige un número en la siguiente línea en donde dice ```mostrar_los_primeros = 5```. Si substituyes el número 5 por el de tu elección y luego presionas el botón de* **`Run`** *en el menú de arriba, la tabla te mostrará las primeras X filas de tus datos (te recomiendo no elegir más de 20 para que no sea imposible leer este documento).*"
   ]
  },
  {
   "cell_type": "code",
   "execution_count": 68,
   "metadata": {},
   "outputs": [],
   "source": [
    "mostrar_los_primeros_n = 5"
   ]
  },
  {
   "cell_type": "markdown",
   "metadata": {},
   "source": [
    "### *2.1.1. Veamos cómo se ve la tabla, para darnos una mejor idea de los datos*"
   ]
  },
  {
   "cell_type": "markdown",
   "metadata": {},
   "source": [
    "*La siguiente línea nos mostrará las primeras y últimas filas de la tabla*"
   ]
  },
  {
   "cell_type": "code",
   "execution_count": 69,
   "metadata": {},
   "outputs": [
    {
     "data": {
      "text/html": [
       "<div>\n",
       "<style scoped>\n",
       "    .dataframe tbody tr th:only-of-type {\n",
       "        vertical-align: middle;\n",
       "    }\n",
       "\n",
       "    .dataframe tbody tr th {\n",
       "        vertical-align: top;\n",
       "    }\n",
       "\n",
       "    .dataframe thead th {\n",
       "        text-align: right;\n",
       "    }\n",
       "</style>\n",
       "<table border=\"1\" class=\"dataframe\">\n",
       "  <thead>\n",
       "    <tr style=\"text-align: right;\">\n",
       "      <th></th>\n",
       "      <th>dateRep</th>\n",
       "      <th>day</th>\n",
       "      <th>month</th>\n",
       "      <th>year</th>\n",
       "      <th>cases</th>\n",
       "      <th>deaths</th>\n",
       "      <th>geoId</th>\n",
       "      <th>continentExp</th>\n",
       "      <th>countryterritoryCode</th>\n",
       "      <th>popData2018</th>\n",
       "      <th>countriesAndTerritories</th>\n",
       "    </tr>\n",
       "  </thead>\n",
       "  <tbody>\n",
       "    <tr>\n",
       "      <th>0</th>\n",
       "      <td>20/04/2020</td>\n",
       "      <td>20</td>\n",
       "      <td>4</td>\n",
       "      <td>2020</td>\n",
       "      <td>88</td>\n",
       "      <td>3</td>\n",
       "      <td>AF</td>\n",
       "      <td>Asia</td>\n",
       "      <td>AFG</td>\n",
       "      <td>37172386.0</td>\n",
       "      <td>Afghanistan</td>\n",
       "    </tr>\n",
       "    <tr>\n",
       "      <th>1</th>\n",
       "      <td>19/04/2020</td>\n",
       "      <td>19</td>\n",
       "      <td>4</td>\n",
       "      <td>2020</td>\n",
       "      <td>63</td>\n",
       "      <td>0</td>\n",
       "      <td>AF</td>\n",
       "      <td>Asia</td>\n",
       "      <td>AFG</td>\n",
       "      <td>37172386.0</td>\n",
       "      <td>Afghanistan</td>\n",
       "    </tr>\n",
       "    <tr>\n",
       "      <th>2</th>\n",
       "      <td>18/04/2020</td>\n",
       "      <td>18</td>\n",
       "      <td>4</td>\n",
       "      <td>2020</td>\n",
       "      <td>51</td>\n",
       "      <td>1</td>\n",
       "      <td>AF</td>\n",
       "      <td>Asia</td>\n",
       "      <td>AFG</td>\n",
       "      <td>37172386.0</td>\n",
       "      <td>Afghanistan</td>\n",
       "    </tr>\n",
       "    <tr>\n",
       "      <th>3</th>\n",
       "      <td>17/04/2020</td>\n",
       "      <td>17</td>\n",
       "      <td>4</td>\n",
       "      <td>2020</td>\n",
       "      <td>10</td>\n",
       "      <td>4</td>\n",
       "      <td>AF</td>\n",
       "      <td>Asia</td>\n",
       "      <td>AFG</td>\n",
       "      <td>37172386.0</td>\n",
       "      <td>Afghanistan</td>\n",
       "    </tr>\n",
       "    <tr>\n",
       "      <th>4</th>\n",
       "      <td>16/04/2020</td>\n",
       "      <td>16</td>\n",
       "      <td>4</td>\n",
       "      <td>2020</td>\n",
       "      <td>70</td>\n",
       "      <td>2</td>\n",
       "      <td>AF</td>\n",
       "      <td>Asia</td>\n",
       "      <td>AFG</td>\n",
       "      <td>37172386.0</td>\n",
       "      <td>Afghanistan</td>\n",
       "    </tr>\n",
       "  </tbody>\n",
       "</table>\n",
       "</div>"
      ],
      "text/plain": [
       "      dateRep  day  month  year  cases  deaths geoId continentExp  \\\n",
       "0  20/04/2020   20      4  2020     88       3    AF         Asia   \n",
       "1  19/04/2020   19      4  2020     63       0    AF         Asia   \n",
       "2  18/04/2020   18      4  2020     51       1    AF         Asia   \n",
       "3  17/04/2020   17      4  2020     10       4    AF         Asia   \n",
       "4  16/04/2020   16      4  2020     70       2    AF         Asia   \n",
       "\n",
       "  countryterritoryCode  popData2018 countriesAndTerritories  \n",
       "0                  AFG   37172386.0             Afghanistan  \n",
       "1                  AFG   37172386.0             Afghanistan  \n",
       "2                  AFG   37172386.0             Afghanistan  \n",
       "3                  AFG   37172386.0             Afghanistan  \n",
       "4                  AFG   37172386.0             Afghanistan  "
      ]
     },
     "execution_count": 69,
     "metadata": {},
     "output_type": "execute_result"
    }
   ],
   "source": [
    "datos_mundo.head(mostrar_los_primeros_n)"
   ]
  },
  {
   "cell_type": "markdown",
   "metadata": {},
   "source": [
    "### *2.1.1. Veamos con atención los nombres de las columnas*"
   ]
  },
  {
   "cell_type": "code",
   "execution_count": 70,
   "metadata": {
    "scrolled": true
   },
   "outputs": [
    {
     "name": "stdout",
     "output_type": "stream",
     "text": [
      "Columna # 1 -> dateRep -> (fecha completa)\n",
      "Columna # 2 -> day -> (día del mes en la siguiente columna)\n",
      "Columna # 3 -> month -> (mes)\n",
      "Columna # 4 -> year -> (año)\n",
      "Columna # 5 -> cases -> (número de casos)\n",
      "Columna # 6 -> deaths -> (númer de muertes)\n",
      "Columna # 7 -> geoId -> (número del país o territorio)\n",
      "Columna # 8 -> continentExp -> (continente)\n",
      "Columna # 9 -> countryterritoryCode -> (código del país o territorio)\n",
      "Columna # 10 -> popData2018 -> (población en 2018)\n",
      "Columna # 11 -> countriesAndTerritories -> (países y territorios)\n"
     ]
    }
   ],
   "source": [
    "explicación_esp = ['fecha completa','día del mes en la siguiente columna','mes','año','número de casos','númer de muertes','número del país o territorio', 'continente','código del país o territorio','población en 2018'\t,'países y territorios',]\n",
    "\n",
    "for numero_columna, columna in enumerate(list(datos_mundo)): \n",
    "    print(f\"\"\"Columna # {numero_columna + 1} -> {columna} -> ({explicación_esp[numero_columna]})\"\"\")\n",
    "#     print(f\"\"\"Columna # {numero_columna + 1} -> {columna}\"\"\")"
   ]
  },
  {
   "cell_type": "markdown",
   "metadata": {},
   "source": [
    "### *2.1.3. Exploremos el número total de filas que tiene la tabla de datos.*\n",
    "\n",
    "* *Recordemos que esto representa la suma del número de días por cada país representado. Algunas columnas están vacías porque el ECDC no tiene ciertos datos (por ejemplo, la población de algunos países no está en la tabla), así que habrá algunas discrepancias en los números de ciertas columnas.*"
   ]
  },
  {
   "cell_type": "code",
   "execution_count": 71,
   "metadata": {},
   "outputs": [
    {
     "data": {
      "text/plain": [
       "dateRep                    11981\n",
       "day                        11981\n",
       "month                      11981\n",
       "year                       11981\n",
       "cases                      11981\n",
       "deaths                     11981\n",
       "geoId                      11944\n",
       "continentExp               11981\n",
       "countryterritoryCode       11856\n",
       "popData2018                11890\n",
       "countriesAndTerritories    11981\n",
       "dtype: int64"
      ]
     },
     "execution_count": 71,
     "metadata": {},
     "output_type": "execute_result"
    }
   ],
   "source": [
    "datos_mundo.count() # la operación .count() hace un conteo por columna"
   ]
  },
  {
   "cell_type": "markdown",
   "metadata": {},
   "source": [
    "## 2.2. Explorar datos de infecciones y muertes"
   ]
  },
  {
   "cell_type": "markdown",
   "metadata": {},
   "source": [
    "### *2.2.1. Veamos primero los datos de la actualización más reciente*"
   ]
  },
  {
   "cell_type": "markdown",
   "metadata": {},
   "source": [
    "#### 2.2.1.1. Primero vamos a tomar los datos de la fecha de esta versión de los datos.\n",
    "\n",
    ">**\\*Nota que puedes jugar con el día siempre y cuando este esté incluído en la tabla**"
   ]
  },
  {
   "cell_type": "markdown",
   "metadata": {},
   "source": [
    "*Cambia la fecha en ```datos.encabezado.fecha_actualizacion``` en la siguiente línea si quieres ver diferentes días.* ***Usa el formato 'día/mes/año' con comillas y exactamente de esta manera, de lo contrario, el programa te dirá que hay un error: ```'01/04/2020'```***"
   ]
  },
  {
   "cell_type": "code",
   "execution_count": 72,
   "metadata": {},
   "outputs": [],
   "source": [
    "# Cambia la siguiente línea si quieres revisar otro día.\n",
    "# Puedes cambiarla a algo parecido a:\n",
    "# dia_que_nos_interesa = '01/04/2020'\n",
    "dia_que_nos_interesa = fecha_actualizacion"
   ]
  },
  {
   "cell_type": "markdown",
   "metadata": {},
   "source": [
    "#### 2.2.1.2. Nos aseguramos de que la fecha contenga '/' y no '-'"
   ]
  },
  {
   "cell_type": "code",
   "execution_count": 73,
   "metadata": {},
   "outputs": [],
   "source": [
    "dia_que_nos_interesa = dia_que_nos_interesa.replace('-','/') "
   ]
  },
  {
   "cell_type": "markdown",
   "metadata": {},
   "source": [
    "#### 2.2.1.3. *Creamos una nueva tabla pero ahora elegimos solamente los datos del día que nos interesa*"
   ]
  },
  {
   "cell_type": "code",
   "execution_count": 74,
   "metadata": {},
   "outputs": [
    {
     "data": {
      "text/html": [
       "<div>\n",
       "<style scoped>\n",
       "    .dataframe tbody tr th:only-of-type {\n",
       "        vertical-align: middle;\n",
       "    }\n",
       "\n",
       "    .dataframe tbody tr th {\n",
       "        vertical-align: top;\n",
       "    }\n",
       "\n",
       "    .dataframe thead th {\n",
       "        text-align: right;\n",
       "    }\n",
       "</style>\n",
       "<table border=\"1\" class=\"dataframe\">\n",
       "  <thead>\n",
       "    <tr style=\"text-align: right;\">\n",
       "      <th></th>\n",
       "      <th>dateRep</th>\n",
       "      <th>day</th>\n",
       "      <th>month</th>\n",
       "      <th>year</th>\n",
       "      <th>cases</th>\n",
       "      <th>deaths</th>\n",
       "      <th>geoId</th>\n",
       "      <th>continentExp</th>\n",
       "      <th>countryterritoryCode</th>\n",
       "      <th>popData2018</th>\n",
       "      <th>countriesAndTerritories</th>\n",
       "    </tr>\n",
       "  </thead>\n",
       "  <tbody>\n",
       "    <tr>\n",
       "      <th>0</th>\n",
       "      <td>20/04/2020</td>\n",
       "      <td>20</td>\n",
       "      <td>4</td>\n",
       "      <td>2020</td>\n",
       "      <td>88</td>\n",
       "      <td>3</td>\n",
       "      <td>AF</td>\n",
       "      <td>Asia</td>\n",
       "      <td>AFG</td>\n",
       "      <td>37172386.0</td>\n",
       "      <td>Afghanistan</td>\n",
       "    </tr>\n",
       "    <tr>\n",
       "      <th>102</th>\n",
       "      <td>20/04/2020</td>\n",
       "      <td>20</td>\n",
       "      <td>4</td>\n",
       "      <td>2020</td>\n",
       "      <td>14</td>\n",
       "      <td>0</td>\n",
       "      <td>AL</td>\n",
       "      <td>Europe</td>\n",
       "      <td>ALB</td>\n",
       "      <td>2866376.0</td>\n",
       "      <td>Albania</td>\n",
       "    </tr>\n",
       "    <tr>\n",
       "      <th>145</th>\n",
       "      <td>20/04/2020</td>\n",
       "      <td>20</td>\n",
       "      <td>4</td>\n",
       "      <td>2020</td>\n",
       "      <td>94</td>\n",
       "      <td>8</td>\n",
       "      <td>DZ</td>\n",
       "      <td>Africa</td>\n",
       "      <td>DZA</td>\n",
       "      <td>42228429.0</td>\n",
       "      <td>Algeria</td>\n",
       "    </tr>\n",
       "    <tr>\n",
       "      <th>252</th>\n",
       "      <td>20/04/2020</td>\n",
       "      <td>20</td>\n",
       "      <td>4</td>\n",
       "      <td>2020</td>\n",
       "      <td>9</td>\n",
       "      <td>1</td>\n",
       "      <td>AD</td>\n",
       "      <td>Europe</td>\n",
       "      <td>AND</td>\n",
       "      <td>77006.0</td>\n",
       "      <td>Andorra</td>\n",
       "    </tr>\n",
       "    <tr>\n",
       "      <th>290</th>\n",
       "      <td>20/04/2020</td>\n",
       "      <td>20</td>\n",
       "      <td>4</td>\n",
       "      <td>2020</td>\n",
       "      <td>0</td>\n",
       "      <td>0</td>\n",
       "      <td>AO</td>\n",
       "      <td>Africa</td>\n",
       "      <td>AGO</td>\n",
       "      <td>30809762.0</td>\n",
       "      <td>Angola</td>\n",
       "    </tr>\n",
       "  </tbody>\n",
       "</table>\n",
       "</div>"
      ],
      "text/plain": [
       "        dateRep  day  month  year  cases  deaths geoId continentExp  \\\n",
       "0    20/04/2020   20      4  2020     88       3    AF         Asia   \n",
       "102  20/04/2020   20      4  2020     14       0    AL       Europe   \n",
       "145  20/04/2020   20      4  2020     94       8    DZ       Africa   \n",
       "252  20/04/2020   20      4  2020      9       1    AD       Europe   \n",
       "290  20/04/2020   20      4  2020      0       0    AO       Africa   \n",
       "\n",
       "    countryterritoryCode  popData2018 countriesAndTerritories  \n",
       "0                    AFG   37172386.0             Afghanistan  \n",
       "102                  ALB    2866376.0                 Albania  \n",
       "145                  DZA   42228429.0                 Algeria  \n",
       "252                  AND      77006.0                 Andorra  \n",
       "290                  AGO   30809762.0                  Angola  "
      ]
     },
     "execution_count": 74,
     "metadata": {},
     "output_type": "execute_result"
    }
   ],
   "source": [
    "# Crear tabla\n",
    "datos_dia_elegido = datos_mundo[datos_mundo.dateRep == dia_que_nos_interesa]\n",
    "# Mostrar las primeros n filas\n",
    "datos_dia_elegido.head(mostrar_los_primeros_n)"
   ]
  },
  {
   "cell_type": "markdown",
   "metadata": {},
   "source": [
    "### *2.2.2. Infecciones y muertes del día de la actualización más reciente (o del día que tú elijas)*"
   ]
  },
  {
   "cell_type": "markdown",
   "metadata": {},
   "source": [
    "#### 2.2.2.1. Personas infectadas\n",
    "\n",
    "Ahora vamos a ordenar los datos, **de acuerdo al número de personas infectadas en el día elegido**, de mayor a menor."
   ]
  },
  {
   "cell_type": "code",
   "execution_count": 75,
   "metadata": {},
   "outputs": [
    {
     "data": {
      "text/html": [
       "<div>\n",
       "<style scoped>\n",
       "    .dataframe tbody tr th:only-of-type {\n",
       "        vertical-align: middle;\n",
       "    }\n",
       "\n",
       "    .dataframe tbody tr th {\n",
       "        vertical-align: top;\n",
       "    }\n",
       "\n",
       "    .dataframe thead th {\n",
       "        text-align: right;\n",
       "    }\n",
       "</style>\n",
       "<table border=\"1\" class=\"dataframe\">\n",
       "  <thead>\n",
       "    <tr style=\"text-align: right;\">\n",
       "      <th></th>\n",
       "      <th>dateRep</th>\n",
       "      <th>day</th>\n",
       "      <th>month</th>\n",
       "      <th>year</th>\n",
       "      <th>cases</th>\n",
       "      <th>deaths</th>\n",
       "      <th>geoId</th>\n",
       "      <th>continentExp</th>\n",
       "      <th>countryterritoryCode</th>\n",
       "      <th>popData2018</th>\n",
       "      <th>countriesAndTerritories</th>\n",
       "    </tr>\n",
       "  </thead>\n",
       "  <tbody>\n",
       "    <tr>\n",
       "      <th>11549</th>\n",
       "      <td>20/04/2020</td>\n",
       "      <td>20</td>\n",
       "      <td>4</td>\n",
       "      <td>2020</td>\n",
       "      <td>24601</td>\n",
       "      <td>1772</td>\n",
       "      <td>US</td>\n",
       "      <td>America</td>\n",
       "      <td>USA</td>\n",
       "      <td>327167434.0</td>\n",
       "      <td>United_States_of_America</td>\n",
       "    </tr>\n",
       "    <tr>\n",
       "      <th>9276</th>\n",
       "      <td>20/04/2020</td>\n",
       "      <td>20</td>\n",
       "      <td>4</td>\n",
       "      <td>2020</td>\n",
       "      <td>6060</td>\n",
       "      <td>48</td>\n",
       "      <td>RU</td>\n",
       "      <td>Europe</td>\n",
       "      <td>RUS</td>\n",
       "      <td>144478050.0</td>\n",
       "      <td>Russia</td>\n",
       "    </tr>\n",
       "    <tr>\n",
       "      <th>11402</th>\n",
       "      <td>20/04/2020</td>\n",
       "      <td>20</td>\n",
       "      <td>4</td>\n",
       "      <td>2020</td>\n",
       "      <td>5850</td>\n",
       "      <td>596</td>\n",
       "      <td>UK</td>\n",
       "      <td>Europe</td>\n",
       "      <td>GBR</td>\n",
       "      <td>66488991.0</td>\n",
       "      <td>United_Kingdom</td>\n",
       "    </tr>\n",
       "    <tr>\n",
       "      <th>10260</th>\n",
       "      <td>20/04/2020</td>\n",
       "      <td>20</td>\n",
       "      <td>4</td>\n",
       "      <td>2020</td>\n",
       "      <td>4218</td>\n",
       "      <td>410</td>\n",
       "      <td>ES</td>\n",
       "      <td>Europe</td>\n",
       "      <td>ESP</td>\n",
       "      <td>46723749.0</td>\n",
       "      <td>Spain</td>\n",
       "    </tr>\n",
       "    <tr>\n",
       "      <th>11163</th>\n",
       "      <td>20/04/2020</td>\n",
       "      <td>20</td>\n",
       "      <td>4</td>\n",
       "      <td>2020</td>\n",
       "      <td>3977</td>\n",
       "      <td>127</td>\n",
       "      <td>TR</td>\n",
       "      <td>Asia</td>\n",
       "      <td>TUR</td>\n",
       "      <td>82319724.0</td>\n",
       "      <td>Turkey</td>\n",
       "    </tr>\n",
       "  </tbody>\n",
       "</table>\n",
       "</div>"
      ],
      "text/plain": [
       "          dateRep  day  month  year  cases  deaths geoId continentExp  \\\n",
       "11549  20/04/2020   20      4  2020  24601    1772    US      America   \n",
       "9276   20/04/2020   20      4  2020   6060      48    RU       Europe   \n",
       "11402  20/04/2020   20      4  2020   5850     596    UK       Europe   \n",
       "10260  20/04/2020   20      4  2020   4218     410    ES       Europe   \n",
       "11163  20/04/2020   20      4  2020   3977     127    TR         Asia   \n",
       "\n",
       "      countryterritoryCode  popData2018   countriesAndTerritories  \n",
       "11549                  USA  327167434.0  United_States_of_America  \n",
       "9276                   RUS  144478050.0                    Russia  \n",
       "11402                  GBR   66488991.0            United_Kingdom  \n",
       "10260                  ESP   46723749.0                     Spain  \n",
       "11163                  TUR   82319724.0                    Turkey  "
      ]
     },
     "execution_count": 75,
     "metadata": {},
     "output_type": "execute_result"
    }
   ],
   "source": [
    "datos_dia_elegido.sort_values(by=['cases'], ascending=False).head(mostrar_los_primeros_n)"
   ]
  },
  {
   "cell_type": "markdown",
   "metadata": {},
   "source": [
    "#### 2.2.2.2. Número de muertes\n",
    "\n",
    "Ahora vamos a ordenar los datos, **de acuerdo al número de muertes en el día elegido**, de mayor a menor."
   ]
  },
  {
   "cell_type": "code",
   "execution_count": 76,
   "metadata": {},
   "outputs": [
    {
     "data": {
      "text/html": [
       "<div>\n",
       "<style scoped>\n",
       "    .dataframe tbody tr th:only-of-type {\n",
       "        vertical-align: middle;\n",
       "    }\n",
       "\n",
       "    .dataframe tbody tr th {\n",
       "        vertical-align: top;\n",
       "    }\n",
       "\n",
       "    .dataframe thead th {\n",
       "        text-align: right;\n",
       "    }\n",
       "</style>\n",
       "<table border=\"1\" class=\"dataframe\">\n",
       "  <thead>\n",
       "    <tr style=\"text-align: right;\">\n",
       "      <th></th>\n",
       "      <th>dateRep</th>\n",
       "      <th>day</th>\n",
       "      <th>month</th>\n",
       "      <th>year</th>\n",
       "      <th>cases</th>\n",
       "      <th>deaths</th>\n",
       "      <th>geoId</th>\n",
       "      <th>continentExp</th>\n",
       "      <th>countryterritoryCode</th>\n",
       "      <th>popData2018</th>\n",
       "      <th>countriesAndTerritories</th>\n",
       "    </tr>\n",
       "  </thead>\n",
       "  <tbody>\n",
       "    <tr>\n",
       "      <th>11549</th>\n",
       "      <td>20/04/2020</td>\n",
       "      <td>20</td>\n",
       "      <td>4</td>\n",
       "      <td>2020</td>\n",
       "      <td>24601</td>\n",
       "      <td>1772</td>\n",
       "      <td>US</td>\n",
       "      <td>America</td>\n",
       "      <td>USA</td>\n",
       "      <td>327167434.0</td>\n",
       "      <td>United_States_of_America</td>\n",
       "    </tr>\n",
       "    <tr>\n",
       "      <th>11402</th>\n",
       "      <td>20/04/2020</td>\n",
       "      <td>20</td>\n",
       "      <td>4</td>\n",
       "      <td>2020</td>\n",
       "      <td>5850</td>\n",
       "      <td>596</td>\n",
       "      <td>UK</td>\n",
       "      <td>Europe</td>\n",
       "      <td>GBR</td>\n",
       "      <td>66488991.0</td>\n",
       "      <td>United_Kingdom</td>\n",
       "    </tr>\n",
       "    <tr>\n",
       "      <th>5772</th>\n",
       "      <td>20/04/2020</td>\n",
       "      <td>20</td>\n",
       "      <td>4</td>\n",
       "      <td>2020</td>\n",
       "      <td>3047</td>\n",
       "      <td>433</td>\n",
       "      <td>IT</td>\n",
       "      <td>Europe</td>\n",
       "      <td>ITA</td>\n",
       "      <td>60431283.0</td>\n",
       "      <td>Italy</td>\n",
       "    </tr>\n",
       "    <tr>\n",
       "      <th>10260</th>\n",
       "      <td>20/04/2020</td>\n",
       "      <td>20</td>\n",
       "      <td>4</td>\n",
       "      <td>2020</td>\n",
       "      <td>4218</td>\n",
       "      <td>410</td>\n",
       "      <td>ES</td>\n",
       "      <td>Europe</td>\n",
       "      <td>ESP</td>\n",
       "      <td>46723749.0</td>\n",
       "      <td>Spain</td>\n",
       "    </tr>\n",
       "    <tr>\n",
       "      <th>3939</th>\n",
       "      <td>20/04/2020</td>\n",
       "      <td>20</td>\n",
       "      <td>4</td>\n",
       "      <td>2020</td>\n",
       "      <td>785</td>\n",
       "      <td>395</td>\n",
       "      <td>FR</td>\n",
       "      <td>Europe</td>\n",
       "      <td>FRA</td>\n",
       "      <td>66987244.0</td>\n",
       "      <td>France</td>\n",
       "    </tr>\n",
       "  </tbody>\n",
       "</table>\n",
       "</div>"
      ],
      "text/plain": [
       "          dateRep  day  month  year  cases  deaths geoId continentExp  \\\n",
       "11549  20/04/2020   20      4  2020  24601    1772    US      America   \n",
       "11402  20/04/2020   20      4  2020   5850     596    UK       Europe   \n",
       "5772   20/04/2020   20      4  2020   3047     433    IT       Europe   \n",
       "10260  20/04/2020   20      4  2020   4218     410    ES       Europe   \n",
       "3939   20/04/2020   20      4  2020    785     395    FR       Europe   \n",
       "\n",
       "      countryterritoryCode  popData2018   countriesAndTerritories  \n",
       "11549                  USA  327167434.0  United_States_of_America  \n",
       "11402                  GBR   66488991.0            United_Kingdom  \n",
       "5772                   ITA   60431283.0                     Italy  \n",
       "10260                  ESP   46723749.0                     Spain  \n",
       "3939                   FRA   66987244.0                    France  "
      ]
     },
     "execution_count": 76,
     "metadata": {},
     "output_type": "execute_result"
    }
   ],
   "source": [
    "datos_dia_elegido.sort_values(by=['deaths'], ascending=False).head(mostrar_los_primeros_n)"
   ]
  },
  {
   "cell_type": "markdown",
   "metadata": {},
   "source": [
    "#### 2.2.2.3. Totales (casos y muertes) en el día elegido\n",
    "\n",
    "Usando las tablas de arriba, exploramos los totales del mundo de casos y muertes **de acuerdo al número de muertes en el día elegido**."
   ]
  },
  {
   "cell_type": "code",
   "execution_count": 77,
   "metadata": {},
   "outputs": [
    {
     "data": {
      "text/markdown": [
       "\n",
       "#### En el día 20/04/2020, al rededor del mundo hubo:\n",
       "\n",
       "- Casos: 74,139\n",
       "- Muertes: 5,145\n",
       "\n",
       "__En porcentaje, hubo un 14.41% de muertes por cada nueva infección detectada en este día.__\n"
      ],
      "text/plain": [
       "<IPython.core.display.Markdown object>"
      ]
     },
     "metadata": {},
     "output_type": "display_data"
    }
   ],
   "source": [
    "# Sumas\n",
    "casos_dia_elegido = datos_dia_elegido['cases'].sum()\n",
    "muertes_dia_elegido = datos_dia_elegido['deaths'].sum()\n",
    "# Porcentaje redondeado (casos/muertes)\n",
    "porcentaje_muertes_infeccion = round(casos_dia_elegido/muertes_dia_elegido, 2)\n",
    "\n",
    "# Para imrpimir con coma\n",
    "casos_dia_elegido = str(casos_dia_elegido)\n",
    "muertes_dia_elegido = str(muertes_dia_elegido)\n",
    "\n",
    "# Mostrar\n",
    "display(Markdown(f\"\"\"\n",
    "#### En el día {dia_que_nos_interesa}, al rededor del mundo hubo:\n",
    "\n",
    "- Casos: {casos_dia_elegido[0:-3]},{casos_dia_elegido[-3:]}\n",
    "- Muertes: {muertes_dia_elegido[0:-3]},{muertes_dia_elegido[-3:]}\n",
    "\n",
    "__En porcentaje, hubo un {porcentaje_muertes_infeccion}% de muertes por cada nueva infección detectada en este día.__\n",
    "\"\"\"))"
   ]
  },
  {
   "cell_type": "markdown",
   "metadata": {},
   "source": [
    "### *2.2.3. Infecciones y muertes acumuladas hasta el día de la actualización más reciente o del día que tú elijas*\n",
    "Nota que los casos reportados no son los casos \"activos\" ya que no contamos con información sobre los casos recuperados por parte del ECDC. Podríamos buscar esta información de otra fuente, pero para simplificar este análisis, aquí no lo haremos."
   ]
  },
  {
   "cell_type": "code",
   "execution_count": 78,
   "metadata": {},
   "outputs": [
    {
     "data": {
      "text/html": [
       "<div>\n",
       "<style scoped>\n",
       "    .dataframe tbody tr th:only-of-type {\n",
       "        vertical-align: middle;\n",
       "    }\n",
       "\n",
       "    .dataframe tbody tr th {\n",
       "        vertical-align: top;\n",
       "    }\n",
       "\n",
       "    .dataframe thead th {\n",
       "        text-align: right;\n",
       "    }\n",
       "</style>\n",
       "<table border=\"1\" class=\"dataframe\">\n",
       "  <thead>\n",
       "    <tr style=\"text-align: right;\">\n",
       "      <th></th>\n",
       "      <th>cases</th>\n",
       "      <th>deaths</th>\n",
       "    </tr>\n",
       "    <tr>\n",
       "      <th>countriesAndTerritories</th>\n",
       "      <th></th>\n",
       "      <th></th>\n",
       "    </tr>\n",
       "  </thead>\n",
       "  <tbody>\n",
       "    <tr>\n",
       "      <th>Afghanistan</th>\n",
       "      <td>996</td>\n",
       "      <td>33</td>\n",
       "    </tr>\n",
       "    <tr>\n",
       "      <th>Albania</th>\n",
       "      <td>562</td>\n",
       "      <td>26</td>\n",
       "    </tr>\n",
       "    <tr>\n",
       "      <th>Algeria</th>\n",
       "      <td>2629</td>\n",
       "      <td>375</td>\n",
       "    </tr>\n",
       "    <tr>\n",
       "      <th>Andorra</th>\n",
       "      <td>713</td>\n",
       "      <td>36</td>\n",
       "    </tr>\n",
       "    <tr>\n",
       "      <th>Angola</th>\n",
       "      <td>24</td>\n",
       "      <td>2</td>\n",
       "    </tr>\n",
       "  </tbody>\n",
       "</table>\n",
       "</div>"
      ],
      "text/plain": [
       "                         cases  deaths\n",
       "countriesAndTerritories               \n",
       "Afghanistan                996      33\n",
       "Albania                    562      26\n",
       "Algeria                   2629     375\n",
       "Andorra                    713      36\n",
       "Angola                      24       2"
      ]
     },
     "execution_count": 78,
     "metadata": {},
     "output_type": "execute_result"
    }
   ],
   "source": [
    "# Seleccionar solo las columnas que nos interesan\n",
    "totales_mundo = datos_mundo[['countriesAndTerritories', 'cases', 'deaths']]\n",
    "# Sumar los datos hasta la fecha\n",
    "totales_mundo = totales_mundo.groupby(['countriesAndTerritories']).sum()\n",
    "# Mostrar los primeros n\n",
    "totales_mundo.head(mostrar_los_primeros_n)"
   ]
  },
  {
   "cell_type": "markdown",
   "metadata": {},
   "source": [
    "#### 2.2.3.1. Totales ordenados por casos de infección"
   ]
  },
  {
   "cell_type": "code",
   "execution_count": 79,
   "metadata": {},
   "outputs": [
    {
     "data": {
      "text/html": [
       "<div>\n",
       "<style scoped>\n",
       "    .dataframe tbody tr th:only-of-type {\n",
       "        vertical-align: middle;\n",
       "    }\n",
       "\n",
       "    .dataframe tbody tr th {\n",
       "        vertical-align: top;\n",
       "    }\n",
       "\n",
       "    .dataframe thead th {\n",
       "        text-align: right;\n",
       "    }\n",
       "</style>\n",
       "<table border=\"1\" class=\"dataframe\">\n",
       "  <thead>\n",
       "    <tr style=\"text-align: right;\">\n",
       "      <th></th>\n",
       "      <th>cases</th>\n",
       "      <th>deaths</th>\n",
       "    </tr>\n",
       "    <tr>\n",
       "      <th>countriesAndTerritories</th>\n",
       "      <th></th>\n",
       "      <th></th>\n",
       "    </tr>\n",
       "  </thead>\n",
       "  <tbody>\n",
       "    <tr>\n",
       "      <th>United_States_of_America</th>\n",
       "      <td>759687</td>\n",
       "      <td>40682</td>\n",
       "    </tr>\n",
       "    <tr>\n",
       "      <th>Spain</th>\n",
       "      <td>195944</td>\n",
       "      <td>20453</td>\n",
       "    </tr>\n",
       "    <tr>\n",
       "      <th>Italy</th>\n",
       "      <td>178972</td>\n",
       "      <td>23660</td>\n",
       "    </tr>\n",
       "    <tr>\n",
       "      <th>Germany</th>\n",
       "      <td>141672</td>\n",
       "      <td>4404</td>\n",
       "    </tr>\n",
       "    <tr>\n",
       "      <th>United_Kingdom</th>\n",
       "      <td>120067</td>\n",
       "      <td>16060</td>\n",
       "    </tr>\n",
       "  </tbody>\n",
       "</table>\n",
       "</div>"
      ],
      "text/plain": [
       "                           cases  deaths\n",
       "countriesAndTerritories                 \n",
       "United_States_of_America  759687   40682\n",
       "Spain                     195944   20453\n",
       "Italy                     178972   23660\n",
       "Germany                   141672    4404\n",
       "United_Kingdom            120067   16060"
      ]
     },
     "execution_count": 79,
     "metadata": {},
     "output_type": "execute_result"
    }
   ],
   "source": [
    "totales_mundo_casos = totales_mundo.sort_values(by=['cases'], ascending=False)\n",
    "totales_mundo_casos.head(mostrar_los_primeros_n)"
   ]
  },
  {
   "cell_type": "markdown",
   "metadata": {},
   "source": [
    "#### 2.2.3.1. Totales ordenados por muertes"
   ]
  },
  {
   "cell_type": "code",
   "execution_count": 80,
   "metadata": {},
   "outputs": [
    {
     "data": {
      "text/html": [
       "<div>\n",
       "<style scoped>\n",
       "    .dataframe tbody tr th:only-of-type {\n",
       "        vertical-align: middle;\n",
       "    }\n",
       "\n",
       "    .dataframe tbody tr th {\n",
       "        vertical-align: top;\n",
       "    }\n",
       "\n",
       "    .dataframe thead th {\n",
       "        text-align: right;\n",
       "    }\n",
       "</style>\n",
       "<table border=\"1\" class=\"dataframe\">\n",
       "  <thead>\n",
       "    <tr style=\"text-align: right;\">\n",
       "      <th></th>\n",
       "      <th>cases</th>\n",
       "      <th>deaths</th>\n",
       "    </tr>\n",
       "    <tr>\n",
       "      <th>countriesAndTerritories</th>\n",
       "      <th></th>\n",
       "      <th></th>\n",
       "    </tr>\n",
       "  </thead>\n",
       "  <tbody>\n",
       "    <tr>\n",
       "      <th>United_States_of_America</th>\n",
       "      <td>759687</td>\n",
       "      <td>40682</td>\n",
       "    </tr>\n",
       "    <tr>\n",
       "      <th>Italy</th>\n",
       "      <td>178972</td>\n",
       "      <td>23660</td>\n",
       "    </tr>\n",
       "    <tr>\n",
       "      <th>Spain</th>\n",
       "      <td>195944</td>\n",
       "      <td>20453</td>\n",
       "    </tr>\n",
       "    <tr>\n",
       "      <th>France</th>\n",
       "      <td>112606</td>\n",
       "      <td>19718</td>\n",
       "    </tr>\n",
       "    <tr>\n",
       "      <th>United_Kingdom</th>\n",
       "      <td>120067</td>\n",
       "      <td>16060</td>\n",
       "    </tr>\n",
       "  </tbody>\n",
       "</table>\n",
       "</div>"
      ],
      "text/plain": [
       "                           cases  deaths\n",
       "countriesAndTerritories                 \n",
       "United_States_of_America  759687   40682\n",
       "Italy                     178972   23660\n",
       "Spain                     195944   20453\n",
       "France                    112606   19718\n",
       "United_Kingdom            120067   16060"
      ]
     },
     "execution_count": 80,
     "metadata": {},
     "output_type": "execute_result"
    }
   ],
   "source": [
    "totales_mundo_muertes = totales_mundo.sort_values(by=['deaths'], ascending=False)\n",
    "totales_mundo_muertes.head(mostrar_los_primeros_n)"
   ]
  },
  {
   "cell_type": "markdown",
   "metadata": {},
   "source": [
    "#### 2.2.3.3. Suma de todos los casos y muertes al rededor del mundo"
   ]
  },
  {
   "cell_type": "code",
   "execution_count": 81,
   "metadata": {},
   "outputs": [
    {
     "data": {
      "text/markdown": [
       "\n",
       "#### La suma de todos los datos hasta el día: 20/04/2020, al rededor del mundo hubo:\n",
       "\n",
       "- Casos: 2355,853\n",
       "- Muertes: 164,656\n",
       "\n",
       "__En porcentaje, hubo un 14.31% de muertes por cada nueva infección **detectada** hasta esta fecha.__\n",
       "\n"
      ],
      "text/plain": [
       "<IPython.core.display.Markdown object>"
      ]
     },
     "metadata": {},
     "output_type": "display_data"
    }
   ],
   "source": [
    "# Cálculos\n",
    "suma_mundial_casos = totales_mundo_casos['cases'].sum()\n",
    "suma_mundial_muertes = totales_mundo_muertes['deaths'].sum()\n",
    "porcentaje_muertes_infeccion = round(suma_mundial_casos/suma_mundial_muertes, 2)\n",
    "\n",
    "# Para imrpimir con coma\n",
    "suma_mundial_casos = str(suma_mundial_casos)\n",
    "suma_mundial_muertes = str(suma_mundial_muertes)\n",
    "\n",
    "# Mostrar\n",
    "display(Markdown(f\"\"\"\n",
    "#### La suma de todos los datos hasta el día: {dia_que_nos_interesa}, al rededor del mundo hubo:\n",
    "\n",
    "- Casos: {suma_mundial_casos[0:-3]},{suma_mundial_casos[-3:]}\n",
    "- Muertes: {suma_mundial_muertes[0:-3]},{suma_mundial_muertes[-3:]}\n",
    "\n",
    "__En porcentaje, hubo un {porcentaje_muertes_infeccion}% de muertes por cada nueva infección **detectada** hasta esta fecha.__\n",
    "\n",
    "\"\"\"))"
   ]
  },
  {
   "cell_type": "markdown",
   "metadata": {},
   "source": [
    "# 3. Exploración de los datos de México en relación con otros países"
   ]
  },
  {
   "cell_type": "markdown",
   "metadata": {},
   "source": [
    "## 3.1. Seleccionar los países que nos interesa comparar\n",
    "> \\* En 4.2 crearé tablas para México ('Mexico'), Argentina ('Argentina'), Estados Unidos ('United_States_of_America') y Francia ('France'), pero tú puedes cambiar los países. Te dejo la lista completa de países al final de este documento.\n",
    "\n",
    "> **\\*Nota:** En los reportes los nombres de los países aparecerán en inglés (como arriba), porque los genera la tabla automáticamente ya que es la única forma de reportar de manera efectiva otros países si es que tú decides hacer cambios a este documento."
   ]
  },
  {
   "cell_type": "markdown",
   "metadata": {},
   "source": [
    "***Yo seleccioné los países mencionados, pero tú puedes seleccionar los países que quieras para compararlos. Para hacerlo, cambia en la línea de abajo os países que te interesan comparar.***"
   ]
  },
  {
   "cell_type": "code",
   "execution_count": 53,
   "metadata": {},
   "outputs": [],
   "source": [
    "PAIS_1 = 'Mexico' # México \n",
    "PAIS_2 = 'Argentina' # Argentina\n",
    "PAIS_3 = 'United_States_of_America' # Estados Unidos \n",
    "PAIS_4 = 'France' # Francia"
   ]
  },
  {
   "cell_type": "markdown",
   "metadata": {},
   "source": [
    "## 3.2. Crear tablas para cada país que nos interesa\n",
    "> ¿Por qué vamos a explorar México, Argentina, Estados Unidos y Francia? \n",
    "    > La decisión de tomar estos países fue la siguiente:\n",
    "        > 1.  México, como Estados Unidos, ha tomado medidas de mitigación. ¿Qué significa esto?\n",
    "            > El caso de mitigación es el siguiente: “Es imposible prevenir el coronavirus. Dejemos que siga su curso mientras intentamos reducir el pico de infecciones. Aplastemos la curva para que sea más manejable para el sistema de salud.” ([Tomas Pueyo, 19 de marzo de 2020](https://medium.com/tomas-pueyo/coronavirus-el-martillo-y-la-danza-32abc4dd4ebb))\n",
    "\n",
    "> 2. Tanto Argentina como Francia han tomado medidas de supresión:\n",
    "> El caso de la supresión es el siguiente: \"[...] la estrategia de supresión trata de aplicar medidas duras para controlar rápidamente la epidemia. Específicamente:\n",
    "Aplicar medidas duras ahora mismo. Ordenar un duro distanciamiento social. Poner esta situación bajo control.\n",
    "Eventualmente, relajar las medidas, de forma que la gente pueda recuperar gradualmente sus libertades y pueda reanudar algo parecido a una vida social y económica normal.\" ([idem.](https://medium.com/tomas-pueyo/coronavirus-el-martillo-y-la-danza-32abc4dd4ebb))\n",
    "\n",
    "> 3. El desarrollo de México y Argentina ha sido similar en cuanto al número de casos hasta la fase 3, declarada en México el 01 de abril de 2020. Estimo que las medidas más restringentes de Argentina tendrán un impacto mayor en la reducción del contagio. **No me declaro a favor de ninguna de las dos posturas. Aunque el debate es interesante, aquí vamos a ver de la manera más objetiva que nos permitan los datos limitados que tenemos el desarrollo de la situación, aunque con la información que tenemos es impsible saber por cierto cuál es el efecto de las políticas sanitarias en cada situación ya que hay muchos más factores que tomar en cuenta como el acceso de la población al sistema de salud, el nivel socioeconómico promedio de la población, etc...**:\n",
    "\n",
    "> 4. El desarrollo de Estados Unidos y de Francia ha sido similar en cuanto al número de casos hasta la fase 3. El día 11 de marzo, Donald Trump impuso [una restricción de viaje](https://travel.state.gov/content/travel/en/traveladvisories/ea/covid-19-information.html) al [aera Schengen de Europa](https://www.google.com/search?q=Schengen&rlz=1C5CHFA_enUS794US794&oq=Schengen&aqs=chrome..69i57.167j0j7&sourceid=chrome&ie=UTF-8) ya que, desde su punto de vista, los países europeos no estaban haciendo lo suficiente para impedir el ingreso del Coronavirus desde China hacia sus países: \"The European Union failed to take the same precautions and restrict travel from China and other hot spots.  As a result, a large number of new clusters in the United States were seeded by travelers from Europe.\" ([Trump, 11 de agisto de 2020](https://www.nytimes.com/2020/03/11/us/politics/trump-coronavirus-speech.html?action=click&module=RelatedLinks&pgtype=Article)). En ese momento, Estados Unidos contaba con X personas infectadas y Francia con Y. Sin embargo, desde mediados de marzo, Francia ha adoptado medidas de supreción, como lo hizo Argentina al rededor de las mismas fechas en contraste con Estados Unidos y México que hasta cerca de abril optaron poco a poco por cambiar su estrategia de mitigación a supresión."
   ]
  },
  {
   "cell_type": "markdown",
   "metadata": {},
   "source": [
    "### *3.2.1. Crear las tablas de México, Argentina, Estados Unidos y Francia:*"
   ]
  },
  {
   "cell_type": "code",
   "execution_count": 54,
   "metadata": {},
   "outputs": [
    {
     "data": {
      "text/markdown": [
       "#### Para comprobar que hemos dividido correctamente los datos, estos son los datos de 'Mexico'"
      ],
      "text/plain": [
       "<IPython.core.display.Markdown object>"
      ]
     },
     "metadata": {},
     "output_type": "display_data"
    },
    {
     "data": {
      "text/html": [
       "<div>\n",
       "<style scoped>\n",
       "    .dataframe tbody tr th:only-of-type {\n",
       "        vertical-align: middle;\n",
       "    }\n",
       "\n",
       "    .dataframe tbody tr th {\n",
       "        vertical-align: top;\n",
       "    }\n",
       "\n",
       "    .dataframe thead th {\n",
       "        text-align: right;\n",
       "    }\n",
       "</style>\n",
       "<table border=\"1\" class=\"dataframe\">\n",
       "  <thead>\n",
       "    <tr style=\"text-align: right;\">\n",
       "      <th></th>\n",
       "      <th>dateRep</th>\n",
       "      <th>day</th>\n",
       "      <th>month</th>\n",
       "      <th>year</th>\n",
       "      <th>cases</th>\n",
       "      <th>deaths</th>\n",
       "      <th>geoId</th>\n",
       "      <th>continentExp</th>\n",
       "      <th>countryterritoryCode</th>\n",
       "      <th>popData2018</th>\n",
       "      <th>countriesAndTerritories</th>\n",
       "    </tr>\n",
       "  </thead>\n",
       "  <tbody>\n",
       "    <tr>\n",
       "      <th>7189</th>\n",
       "      <td>20/04/2020</td>\n",
       "      <td>20</td>\n",
       "      <td>4</td>\n",
       "      <td>2020</td>\n",
       "      <td>764</td>\n",
       "      <td>36</td>\n",
       "      <td>MX</td>\n",
       "      <td>America</td>\n",
       "      <td>MEX</td>\n",
       "      <td>126190788.0</td>\n",
       "      <td>Mexico</td>\n",
       "    </tr>\n",
       "    <tr>\n",
       "      <th>7190</th>\n",
       "      <td>19/04/2020</td>\n",
       "      <td>19</td>\n",
       "      <td>4</td>\n",
       "      <td>2020</td>\n",
       "      <td>622</td>\n",
       "      <td>104</td>\n",
       "      <td>MX</td>\n",
       "      <td>America</td>\n",
       "      <td>MEX</td>\n",
       "      <td>126190788.0</td>\n",
       "      <td>Mexico</td>\n",
       "    </tr>\n",
       "    <tr>\n",
       "      <th>7191</th>\n",
       "      <td>18/04/2020</td>\n",
       "      <td>18</td>\n",
       "      <td>4</td>\n",
       "      <td>2020</td>\n",
       "      <td>578</td>\n",
       "      <td>60</td>\n",
       "      <td>MX</td>\n",
       "      <td>America</td>\n",
       "      <td>MEX</td>\n",
       "      <td>126190788.0</td>\n",
       "      <td>Mexico</td>\n",
       "    </tr>\n",
       "    <tr>\n",
       "      <th>7192</th>\n",
       "      <td>17/04/2020</td>\n",
       "      <td>17</td>\n",
       "      <td>4</td>\n",
       "      <td>2020</td>\n",
       "      <td>450</td>\n",
       "      <td>37</td>\n",
       "      <td>MX</td>\n",
       "      <td>America</td>\n",
       "      <td>MEX</td>\n",
       "      <td>126190788.0</td>\n",
       "      <td>Mexico</td>\n",
       "    </tr>\n",
       "    <tr>\n",
       "      <th>7193</th>\n",
       "      <td>16/04/2020</td>\n",
       "      <td>16</td>\n",
       "      <td>4</td>\n",
       "      <td>2020</td>\n",
       "      <td>448</td>\n",
       "      <td>43</td>\n",
       "      <td>MX</td>\n",
       "      <td>America</td>\n",
       "      <td>MEX</td>\n",
       "      <td>126190788.0</td>\n",
       "      <td>Mexico</td>\n",
       "    </tr>\n",
       "  </tbody>\n",
       "</table>\n",
       "</div>"
      ],
      "text/plain": [
       "         dateRep  day  month  year  cases  deaths geoId continentExp  \\\n",
       "7189  20/04/2020   20      4  2020    764      36    MX      America   \n",
       "7190  19/04/2020   19      4  2020    622     104    MX      America   \n",
       "7191  18/04/2020   18      4  2020    578      60    MX      America   \n",
       "7192  17/04/2020   17      4  2020    450      37    MX      America   \n",
       "7193  16/04/2020   16      4  2020    448      43    MX      America   \n",
       "\n",
       "     countryterritoryCode  popData2018 countriesAndTerritories  \n",
       "7189                  MEX  126190788.0                  Mexico  \n",
       "7190                  MEX  126190788.0                  Mexico  \n",
       "7191                  MEX  126190788.0                  Mexico  \n",
       "7192                  MEX  126190788.0                  Mexico  \n",
       "7193                  MEX  126190788.0                  Mexico  "
      ]
     },
     "execution_count": 54,
     "metadata": {},
     "output_type": "execute_result"
    }
   ],
   "source": [
    "datos_pais_1 = datos_mundo[datos_mundo['countriesAndTerritories']==PAIS_1] # México\n",
    "datos_pais_2 = datos_mundo[datos_mundo['countriesAndTerritories']==PAIS_2] # Argentina\n",
    "datos_pais_3 = datos_mundo[datos_mundo['countriesAndTerritories']==PAIS_3] # Estados Unidos\n",
    "datos_pais_4 = datos_mundo[datos_mundo['countriesAndTerritories']==PAIS_4] # Francia\n",
    "display(Markdown(f\"\"\"#### Para comprobar que hemos dividido correctamente los datos, estos son los datos de '{PAIS_1}'\"\"\"))\n",
    "datos_pais_1.head(mostrar_los_primeros_n)"
   ]
  },
  {
   "cell_type": "markdown",
   "metadata": {},
   "source": [
    "## 3.3. Comparar infecciones y muertes hasta esta versión en los países elegidos."
   ]
  },
  {
   "cell_type": "markdown",
   "metadata": {},
   "source": [
    "### *3.3.1. Totales de infecciones y muertes*"
   ]
  },
  {
   "cell_type": "markdown",
   "metadata": {},
   "source": [
    "#### 3.3.1.1. Número total de infecciones entre los países elegidos"
   ]
  },
  {
   "cell_type": "code",
   "execution_count": 62,
   "metadata": {},
   "outputs": [
    {
     "data": {
      "text/markdown": [
       " #### Número total de infecciones y muertes en Mexico, Argentina, United_States_of_America, y France\n",
       "**(hasta esta versión)**\n",
       "\n",
       "- **Mexico**\n",
       "    - casos: 8,261, muertes: 686\n",
       "- **Argentina**\n",
       "    - casos: 2,930, muertes: 134\n",
       "- **United_States_of_America**\n",
       "    - casos: 759,687, muertes: 40,682\n",
       "- **France**\n",
       "    - casos: 112,606, muertes: 19,718\n"
      ],
      "text/plain": [
       "<IPython.core.display.Markdown object>"
      ]
     },
     "metadata": {},
     "output_type": "display_data"
    }
   ],
   "source": [
    "display(Markdown(f\"\"\" #### Número total de infecciones y muertes en {PAIS_1}, {PAIS_2}, {PAIS_3}, y {PAIS_4}\n",
    "**(hasta esta versión)**\n",
    "\n",
    "- **{PAIS_1}**\n",
    "    - casos: {datos_pais_1['cases'].sum():,}, muertes: {datos_pais_1['deaths'].sum():,}\n",
    "- **{PAIS_2}**\n",
    "    - casos: {datos_pais_2['cases'].sum():,}, muertes: {datos_pais_2['deaths'].sum():,}\n",
    "- **{PAIS_3}**\n",
    "    - casos: {datos_pais_3['cases'].sum():,}, muertes: {datos_pais_3['deaths'].sum():,}\n",
    "- **{PAIS_4}**\n",
    "    - casos: {datos_pais_4['cases'].sum():,}, muertes: {datos_pais_4['deaths'].sum():,}\n",
    "\"\"\"))"
   ]
  },
  {
   "cell_type": "markdown",
   "metadata": {},
   "source": [
    "#### 3.3.1.2. Graficar el número total de infecciones entre los países elegidos"
   ]
  },
  {
   "cell_type": "code",
   "execution_count": 56,
   "metadata": {},
   "outputs": [],
   "source": [
    "import matplotlib.pyplot as plt\n",
    "colores = ['#32a852', '#c74e22', '#242cd1', '#d124bd']\n",
    "mx = max(len(datos_pais_1['cases']),len(datos_pais_2['cases']),len(datos_pais_3['cases']),len(datos_pais_4['cases']),)\n",
    "# from pandas.plotting import andrews_curves\n",
    "# from pandas.plotting import register_matplotlib_converters\n",
    "# register_matplotlib_converters()\n",
    "# from matplotlib.dates import DayLocator, HourLocator, DateFormatter, drange\n",
    "def plot_ts(fax, df, field, color, lb):\n",
    "    dates = df[\"dateRep\"]\n",
    "    values = df[field]\n",
    "    vals = list()\n",
    "    dts = list()\n",
    "    for i, j in enumerate(dates):\n",
    "        dts.append(dates.iloc[i])\n",
    "        vals.append(values.iloc[i])\n",
    "    fax.plot(dts, vals, color, linewidth=0.8, label=lb)#, dts\n"
   ]
  },
  {
   "cell_type": "code",
   "execution_count": 57,
   "metadata": {},
   "outputs": [
    {
     "data": {
      "text/markdown": [
       "#### Casos de infección totales Mexico vs Argentina\n",
       "#### y de United_States_of_America vs France"
      ],
      "text/plain": [
       "<IPython.core.display.Markdown object>"
      ]
     },
     "metadata": {},
     "output_type": "display_data"
    },
    {
     "data": {
      "text/plain": [
       "<matplotlib.legend.Legend at 0x120060be0>"
      ]
     },
     "execution_count": 57,
     "metadata": {},
     "output_type": "execute_result"
    },
    {
     "data": {
      "image/png": "[encoded data removed]",
      "text/plain": [
       "<Figure size 720x360 with 1 Axes>"
      ]
     },
     "metadata": {
      "needs_background": "light"
     },
     "output_type": "display_data"
    },
    {
     "data": {
      "image/png": "[encoded data removed]",
      "text/plain": [
       "<Figure size 720x360 with 1 Axes>"
      ]
     },
     "metadata": {
      "needs_background": "light"
     },
     "output_type": "display_data"
    }
   ],
   "source": [
    "display(Markdown(f\"\"\"#### Casos de infección totales {PAIS_1} vs {PAIS_2}\n",
    "#### y de {PAIS_3} vs {PAIS_4}\"\"\"))\n",
    "\n",
    "# México contra Argentina\n",
    "fig, ax = plt.subplots(figsize=(10, 5))\n",
    "\n",
    "plot_ts(ax, datos_pais_1, 'cases', colores[0], lb =PAIS_1)\n",
    "plot_ts(ax,datos_pais_2, 'cases', colores[2], lb =PAIS_2)\n",
    "\n",
    "ax.set_xlim(100, 0)  # decreasing time\n",
    "ax.set_ylabel('número')\n",
    "ax.set_title(f'Casos de infección totales {PAIS_1} vs {PAIS_2}')\n",
    "ax.xaxis.set_major_locator(plt.MaxNLocator(3))\n",
    "ax.yaxis.set_major_locator(plt.MaxNLocator(5))\n",
    "ax.grid(True)\n",
    "\n",
    "plt.tight_layout()\n",
    "plt.legend(loc='best')\n",
    "\n",
    "# Estados Unidos contra Francia\n",
    "fig, axp = plt.subplots(figsize=(10, 5))\n",
    "\n",
    "plot_ts(axp, datos_pais_3, 'cases', colores[0], lb =PAIS_3)\n",
    "plot_ts(axp,datos_pais_4, 'cases', colores[2], lb =PAIS_4)\n",
    "\n",
    "axp.set_xlim(100, 0)  # decreasing time\n",
    "axp.set_ylabel('número')\n",
    "axp.set_title(f'Casos de infección totales {PAIS_3} vs {PAIS_4}')\n",
    "axp.xaxis.set_major_locator(plt.MaxNLocator(3))\n",
    "axp.yaxis.set_major_locator(plt.MaxNLocator(5))\n",
    "axp.grid(True)\n",
    "\n",
    "plt.tight_layout()\n",
    "plt.legend(loc='best')"
   ]
  },
  {
   "cell_type": "markdown",
   "metadata": {},
   "source": [
    "#### 3.3.1.3. Graficar el número total de muertes entre los países elegidos"
   ]
  },
  {
   "cell_type": "code",
   "execution_count": 58,
   "metadata": {},
   "outputs": [
    {
     "data": {
      "text/markdown": [
       "#### Casos de muertes totales Mexico vs Argentina\n",
       "#### y de United_States_of_America vs France"
      ],
      "text/plain": [
       "<IPython.core.display.Markdown object>"
      ]
     },
     "metadata": {},
     "output_type": "display_data"
    },
    {
     "data": {
      "text/plain": [
       "<matplotlib.legend.Legend at 0x120349bb0>"
      ]
     },
     "execution_count": 58,
     "metadata": {},
     "output_type": "execute_result"
    },
    {
     "data": {
      "image/png": "[encoded data removed]",
      "text/plain": [
       "<Figure size 720x360 with 1 Axes>"
      ]
     },
     "metadata": {
      "needs_background": "light"
     },
     "output_type": "display_data"
    },
    {
     "data": {
      "image/png": "[encoded data removed]",
      "text/plain": [
       "<Figure size 720x360 with 1 Axes>"
      ]
     },
     "metadata": {
      "needs_background": "light"
     },
     "output_type": "display_data"
    }
   ],
   "source": [
    "display(Markdown(f\"\"\"#### Casos de muertes totales {PAIS_1} vs {PAIS_2}\n",
    "#### y de {PAIS_3} vs {PAIS_4}\"\"\"))\n",
    "\n",
    "variable_dependiente = 'deaths'\n",
    "# México contra Argentina\n",
    "fig, ax = plt.subplots(figsize=(10, 5))\n",
    "\n",
    "plot_ts(ax, datos_pais_1, variable_dependiente, colores[0], lb =PAIS_1)\n",
    "plot_ts(ax,datos_pais_2, variable_dependiente, colores[2], lb =PAIS_2)\n",
    "\n",
    "ax.set_xlim(100, 0)  # decreasing time\n",
    "ax.set_ylabel('número')\n",
    "ax.set_title(f'Muertes totales {PAIS_1} vs {PAIS_2}')\n",
    "ax.xaxis.set_major_locator(plt.MaxNLocator(3))\n",
    "ax.yaxis.set_major_locator(plt.MaxNLocator(5))\n",
    "ax.grid(True)\n",
    "\n",
    "plt.tight_layout()\n",
    "plt.legend(loc='best')\n",
    "\n",
    "\n",
    "# Estados Unidos contra Francia\n",
    "fig, axp = plt.subplots(figsize=(10, 5))\n",
    "\n",
    "plot_ts(axp, datos_pais_3, variable_dependiente, colores[0], lb =PAIS_3)\n",
    "plot_ts(axp,datos_pais_4, variable_dependiente, colores[2], lb =PAIS_4)\n",
    "\n",
    "axp.set_xlim(100, 0)  # decreasing time\n",
    "axp.set_ylabel('número')\n",
    "axp.set_title(f'Muertes totales {PAIS_3} vs {PAIS_4}')\n",
    "axp.xaxis.set_major_locator(plt.MaxNLocator(3))\n",
    "axp.yaxis.set_major_locator(plt.MaxNLocator(5))\n",
    "axp.grid(True)\n",
    "\n",
    "plt.tight_layout()\n",
    "plt.legend(loc='best')"
   ]
  },
  {
   "cell_type": "markdown",
   "metadata": {},
   "source": [
    "#### 3.3.1.4. Comparar trayectorias de infecciones y muertes hasta esta versión\n",
    "La comparación se hace por medio de pruebas de estudiante (student t-tests). Aunque podríamos hacer análisis estadísticos más complejos, para esta exploración nos bastará hacer pruebas simples comparando a México con cada país."
   ]
  },
  {
   "cell_type": "code",
   "execution_count": 59,
   "metadata": {},
   "outputs": [
    {
     "data": {
      "text/markdown": [
       "\n",
       "### México en comparación a Argentina"
      ],
      "text/plain": [
       "<IPython.core.display.Markdown object>"
      ]
     },
     "metadata": {},
     "output_type": "display_data"
    },
    {
     "data": {
      "text/markdown": [
       "#### Casos\n",
       "> statistic = 0.5934028555672339 significance = 0.5538235121633321"
      ],
      "text/plain": [
       "<IPython.core.display.Markdown object>"
      ]
     },
     "metadata": {},
     "output_type": "display_data"
    },
    {
     "data": {
      "text/markdown": [
       "#### Muertes\n",
       "> statistic = 1.442643004470502 significance = 0.15124843613691272"
      ],
      "text/plain": [
       "<IPython.core.display.Markdown object>"
      ]
     },
     "metadata": {},
     "output_type": "display_data"
    },
    {
     "data": {
      "text/markdown": [
       "\n",
       "### Estados Unidos en comparación a Francia"
      ],
      "text/plain": [
       "<IPython.core.display.Markdown object>"
      ]
     },
     "metadata": {},
     "output_type": "display_data"
    },
    {
     "data": {
      "text/markdown": [
       "#### Casos\n",
       "> statistic = 5.17509612337001 significance = 5.090998807369975e-07"
      ],
      "text/plain": [
       "<IPython.core.display.Markdown object>"
      ]
     },
     "metadata": {},
     "output_type": "display_data"
    },
    {
     "data": {
      "text/markdown": [
       "#### Muertes\n",
       "> statistic = 2.209041682187897 significance = 0.028193996998352865"
      ],
      "text/plain": [
       "<IPython.core.display.Markdown object>"
      ]
     },
     "metadata": {},
     "output_type": "display_data"
    },
    {
     "data": {
      "text/markdown": [
       "\n",
       "### México en comparación a Estados Unidos"
      ],
      "text/plain": [
       "<IPython.core.display.Markdown object>"
      ]
     },
     "metadata": {},
     "output_type": "display_data"
    },
    {
     "data": {
      "text/markdown": [
       "#### Casos\n",
       "> statistic = -5.8415518520588625 significance = 1.90540396030383e-08"
      ],
      "text/plain": [
       "<IPython.core.display.Markdown object>"
      ]
     },
     "metadata": {},
     "output_type": "display_data"
    },
    {
     "data": {
      "text/markdown": [
       "#### Muertes\n",
       "> statistic = -4.433564355639717 significance = 1.4809570151794338e-05"
      ],
      "text/plain": [
       "<IPython.core.display.Markdown object>"
      ]
     },
     "metadata": {},
     "output_type": "display_data"
    },
    {
     "data": {
      "text/markdown": [
       "\n",
       "### México en comparación a Francia"
      ],
      "text/plain": [
       "<IPython.core.display.Markdown object>"
      ]
     },
     "metadata": {},
     "output_type": "display_data"
    },
    {
     "data": {
      "text/markdown": [
       "#### Casos\n",
       "> statistic = -5.715276394957544 significance = 3.6460320849964495e-08"
      ],
      "text/plain": [
       "<IPython.core.display.Markdown object>"
      ]
     },
     "metadata": {},
     "output_type": "display_data"
    },
    {
     "data": {
      "text/markdown": [
       "#### Muertes\n",
       "> statistic = -4.7571698059083625 significance = 3.608222837159464e-06"
      ],
      "text/plain": [
       "<IPython.core.display.Markdown object>"
      ]
     },
     "metadata": {},
     "output_type": "display_data"
    }
   ],
   "source": [
    "from scipy.stats import ttest_ind\n",
    "\n",
    "# México en comparación a Argentina\n",
    "p1_p2_casos = ttest_ind(datos_pais_1['cases'], datos_pais_2['cases'])\n",
    "p1_p2_muertes = ttest_ind(datos_pais_1['deaths'], datos_pais_2['deaths'])\n",
    "\n",
    "# Estados Unidos en comparación a Francia\n",
    "p3_p4_casos = ttest_ind(datos_pais_3['cases'], datos_pais_4['cases'])\n",
    "p3_p4_muertes = ttest_ind(datos_pais_3['deaths'], datos_pais_4['deaths'])\n",
    "\n",
    "# México en comparación a Estados Unidos\n",
    "p1_p3_casos = ttest_ind(datos_pais_1['cases'], datos_pais_3['cases'])\n",
    "p1_p3_muertes = ttest_ind(datos_pais_1['deaths'], datos_pais_3['deaths'])\n",
    "\n",
    "# México en comparación a Francia\n",
    "p1_p4_casos = ttest_ind(datos_pais_1['cases'], datos_pais_4['cases'])\n",
    "p1_p4_muertes = ttest_ind(datos_pais_1['deaths'], datos_pais_4['deaths'])\n",
    "\n",
    "display(Markdown(f'\\n### México en comparación a Argentina'))\n",
    "display(Markdown(f\"\"\"#### Casos\n",
    "> statistic = {p1_p2_casos.statistic} significance = {p1_p2_casos.pvalue}\"\"\"))\n",
    "display(Markdown(f\"\"\"#### Muertes\n",
    "> statistic = {p1_p2_muertes.statistic} significance = {p1_p2_muertes.pvalue}\"\"\"))\n",
    "display(Markdown(f'\\n### Estados Unidos en comparación a Francia'))\n",
    "display(Markdown(f\"\"\"#### Casos\n",
    "> statistic = {p3_p4_casos.statistic} significance = {p3_p4_casos.pvalue}\"\"\"))\n",
    "display(Markdown(f\"\"\"#### Muertes\n",
    "> statistic = {p3_p4_muertes.statistic} significance = {p3_p4_muertes.pvalue}\"\"\"))\n",
    "display(Markdown(f'\\n### México en comparación a Estados Unidos'))\n",
    "display(Markdown(f\"\"\"#### Casos\n",
    "> statistic = {p1_p3_casos.statistic} significance = {p1_p3_casos.pvalue}\"\"\"))\n",
    "display(Markdown(f\"\"\"#### Muertes\n",
    "> statistic = {p1_p3_muertes.statistic} significance = {p1_p3_muertes.pvalue}\"\"\"))\n",
    "display(Markdown(f'\\n### México en comparación a Francia'))\n",
    "display(Markdown(f\"\"\"#### Casos\n",
    "> statistic = {p1_p4_casos.statistic} significance = {p1_p4_casos.pvalue}\"\"\"))\n",
    "display(Markdown(f\"\"\"#### Muertes\n",
    "> statistic = {p1_p4_muertes.statistic} significance = {p1_p4_muertes.pvalue}\"\"\"))"
   ]
  },
  {
   "cell_type": "markdown",
   "metadata": {},
   "source": [
    "### *3.3.1. Porcentajes de infecciones y muertes de acuerdo con la población (2018) de cada país*\n",
    "En este análisis usamos los datos de población que vienen listados en la tabla. Para investigar si los datos poblacionales son confiables, comparé el número de habitantes en México según la tabla (126,190,788) con la estimación del 2019 del Consejo Nacional de Población[https://www.gob.mx/conapo/documentos/la-situacion-demografica-de-mexico-2019]. El estimado oficial de la CONAPO para México es de 126,577,691 habitantes para el 2019. Debido a que la tabla usa datos del 2018, me parece que la estimación es buena y procederé al análisis."
   ]
  },
  {
   "cell_type": "code",
   "execution_count": 60,
   "metadata": {},
   "outputs": [],
   "source": [
    "#ToDo"
   ]
  },
  {
   "cell_type": "markdown",
   "metadata": {},
   "source": [
    " \n",
    "  \n",
    "   \n",
    "   "
   ]
  },
  {
   "cell_type": "markdown",
   "metadata": {},
   "source": [
    "## Lista de países y territorios en los datos de esta versión\n",
    "El código a continuación extrae los países y territorios representados en esta versión de los datos.\n",
    "Espero que esto te ayude a explorar más adelante sustituyendo el nombre de los países que yo seleccioné por el nombre de los países que tú quieras explorar:"
   ]
  },
  {
   "cell_type": "code",
   "execution_count": 61,
   "metadata": {},
   "outputs": [
    {
     "data": {
      "text/markdown": [
       " #### A:\n",
       "    ['Afghanistan', 'Albania', 'Algeria', 'Andorra', 'Angola', 'Anguilla', 'Antigua_and_Barbuda', 'Argentina', 'Armenia', 'Aruba', 'Australia', 'Austria', 'Azerbaijan']"
      ],
      "text/plain": [
       "<IPython.core.display.Markdown object>"
      ]
     },
     "metadata": {},
     "output_type": "display_data"
    },
    {
     "data": {
      "text/markdown": [
       " #### B:\n",
       "    ['Bahamas', 'Bahrain', 'Bangladesh', 'Barbados', 'Belarus', 'Belgium', 'Belize', 'Benin', 'Bermuda', 'Bhutan', 'Bolivia', 'Bonaire, Saint Eustatius and Saba', 'Bosnia_and_Herzegovina', 'Botswana', 'Brazil', 'British_Virgin_Islands', 'Brunei_Darussalam', 'Bulgaria', 'Burkina_Faso', 'Burundi']"
      ],
      "text/plain": [
       "<IPython.core.display.Markdown object>"
      ]
     },
     "metadata": {},
     "output_type": "display_data"
    },
    {
     "data": {
      "text/markdown": [
       " #### C:\n",
       "    ['Cambodia', 'Cameroon', 'Canada', 'Cape_Verde', 'Cayman_Islands', 'Central_African_Republic', 'Chad', 'Chile', 'China', 'Colombia', 'Congo', 'Costa_Rica', 'Cote_dIvoire', 'Croatia', 'Cuba', 'Curaçao', 'Cyprus', 'Czechia']"
      ],
      "text/plain": [
       "<IPython.core.display.Markdown object>"
      ]
     },
     "metadata": {},
     "output_type": "display_data"
    },
    {
     "data": {
      "text/markdown": [
       " #### D:\n",
       "    ['Democratic_Republic_of_the_Congo', 'Denmark', 'Djibouti', 'Dominica', 'Dominican_Republic']"
      ],
      "text/plain": [
       "<IPython.core.display.Markdown object>"
      ]
     },
     "metadata": {},
     "output_type": "display_data"
    },
    {
     "data": {
      "text/markdown": [
       " #### E:\n",
       "    ['Ecuador', 'Egypt', 'El_Salvador', 'Equatorial_Guinea', 'Eritrea', 'Estonia', 'Eswatini', 'Ethiopia']"
      ],
      "text/plain": [
       "<IPython.core.display.Markdown object>"
      ]
     },
     "metadata": {},
     "output_type": "display_data"
    },
    {
     "data": {
      "text/markdown": [
       " #### F:\n",
       "    ['Falkland_Islands_(Malvinas)', 'Faroe_Islands', 'Fiji', 'Finland', 'France', 'French_Polynesia']"
      ],
      "text/plain": [
       "<IPython.core.display.Markdown object>"
      ]
     },
     "metadata": {},
     "output_type": "display_data"
    },
    {
     "data": {
      "text/markdown": [
       " #### G:\n",
       "    ['Gabon', 'Gambia', 'Georgia', 'Germany', 'Ghana', 'Gibraltar', 'Greece', 'Greenland', 'Grenada', 'Guam', 'Guatemala', 'Guernsey', 'Guinea', 'Guinea_Bissau', 'Guyana']"
      ],
      "text/plain": [
       "<IPython.core.display.Markdown object>"
      ]
     },
     "metadata": {},
     "output_type": "display_data"
    },
    {
     "data": {
      "text/markdown": [
       " #### H:\n",
       "    ['Haiti', 'Holy_See', 'Honduras', 'Hungary']"
      ],
      "text/plain": [
       "<IPython.core.display.Markdown object>"
      ]
     },
     "metadata": {},
     "output_type": "display_data"
    },
    {
     "data": {
      "text/markdown": [
       " #### I:\n",
       "    ['Iceland', 'India', 'Indonesia', 'Iran', 'Iraq', 'Ireland', 'Isle_of_Man', 'Israel', 'Italy']"
      ],
      "text/plain": [
       "<IPython.core.display.Markdown object>"
      ]
     },
     "metadata": {},
     "output_type": "display_data"
    },
    {
     "data": {
      "text/markdown": [
       " #### J:\n",
       "    ['Jamaica', 'Japan', 'Jersey', 'Jordan']"
      ],
      "text/plain": [
       "<IPython.core.display.Markdown object>"
      ]
     },
     "metadata": {},
     "output_type": "display_data"
    },
    {
     "data": {
      "text/markdown": [
       " #### K:\n",
       "    ['Kazakhstan', 'Kenya', 'Kosovo', 'Kuwait', 'Kyrgyzstan']"
      ],
      "text/plain": [
       "<IPython.core.display.Markdown object>"
      ]
     },
     "metadata": {},
     "output_type": "display_data"
    },
    {
     "data": {
      "text/markdown": [
       " #### L:\n",
       "    ['Laos', 'Latvia', 'Lebanon', 'Liberia', 'Libya', 'Liechtenstein', 'Lithuania', 'Luxembourg']"
      ],
      "text/plain": [
       "<IPython.core.display.Markdown object>"
      ]
     },
     "metadata": {},
     "output_type": "display_data"
    },
    {
     "data": {
      "text/markdown": [
       " #### M:\n",
       "    ['Madagascar', 'Malawi', 'Malaysia', 'Maldives', 'Mali', 'Malta', 'Mauritania', 'Mauritius', 'Mexico', 'Moldova', 'Monaco', 'Mongolia', 'Montenegro', 'Montserrat', 'Morocco', 'Mozambique', 'Myanmar']"
      ],
      "text/plain": [
       "<IPython.core.display.Markdown object>"
      ]
     },
     "metadata": {},
     "output_type": "display_data"
    },
    {
     "data": {
      "text/markdown": [
       " #### N:\n",
       "    ['Namibia', 'Nepal', 'Netherlands', 'New_Caledonia', 'New_Zealand', 'Nicaragua', 'Niger', 'Nigeria', 'North_Macedonia', 'Northern_Mariana_Islands', 'Norway']"
      ],
      "text/plain": [
       "<IPython.core.display.Markdown object>"
      ]
     },
     "metadata": {},
     "output_type": "display_data"
    },
    {
     "data": {
      "text/markdown": [
       " #### O:\n",
       "    ['Oman']"
      ],
      "text/plain": [
       "<IPython.core.display.Markdown object>"
      ]
     },
     "metadata": {},
     "output_type": "display_data"
    },
    {
     "data": {
      "text/markdown": [
       " #### P:\n",
       "    ['Pakistan', 'Palestine', 'Panama', 'Papua_New_Guinea', 'Paraguay', 'Peru', 'Philippines', 'Poland', 'Portugal', 'Puerto_Rico']"
      ],
      "text/plain": [
       "<IPython.core.display.Markdown object>"
      ]
     },
     "metadata": {},
     "output_type": "display_data"
    },
    {
     "data": {
      "text/markdown": [
       " #### Q:\n",
       "    ['Qatar']"
      ],
      "text/plain": [
       "<IPython.core.display.Markdown object>"
      ]
     },
     "metadata": {},
     "output_type": "display_data"
    },
    {
     "data": {
      "text/markdown": [
       " #### R:\n",
       "    ['Romania', 'Russia', 'Rwanda']"
      ],
      "text/plain": [
       "<IPython.core.display.Markdown object>"
      ]
     },
     "metadata": {},
     "output_type": "display_data"
    },
    {
     "data": {
      "text/markdown": [
       " #### S:\n",
       "    ['Saint_Kitts_and_Nevis', 'Saint_Lucia', 'Saint_Vincent_and_the_Grenadines', 'San_Marino', 'Sao_Tome_and_Principe', 'Saudi_Arabia', 'Senegal', 'Serbia', 'Seychelles', 'Sierra_Leone', 'Singapore', 'Sint_Maarten', 'Slovakia', 'Slovenia', 'Somalia', 'South_Africa', 'South_Korea', 'South_Sudan', 'Spain', 'Sri_Lanka', 'Sudan', 'Suriname', 'Sweden', 'Switzerland', 'Syria']"
      ],
      "text/plain": [
       "<IPython.core.display.Markdown object>"
      ]
     },
     "metadata": {},
     "output_type": "display_data"
    },
    {
     "data": {
      "text/markdown": [
       " #### T:\n",
       "    ['Taiwan', 'Thailand', 'Timor_Leste', 'Togo', 'Trinidad_and_Tobago', 'Tunisia', 'Turkey', 'Turks_and_Caicos_islands']"
      ],
      "text/plain": [
       "<IPython.core.display.Markdown object>"
      ]
     },
     "metadata": {},
     "output_type": "display_data"
    },
    {
     "data": {
      "text/markdown": [
       " #### U:\n",
       "    ['Uganda', 'Ukraine', 'United_Arab_Emirates', 'United_Kingdom', 'United_Republic_of_Tanzania', 'United_States_of_America', 'United_States_Virgin_Islands', 'Uruguay', 'Uzbekistan']"
      ],
      "text/plain": [
       "<IPython.core.display.Markdown object>"
      ]
     },
     "metadata": {},
     "output_type": "display_data"
    },
    {
     "data": {
      "text/markdown": [
       " #### V:\n",
       "    ['Venezuela', 'Vietnam']"
      ],
      "text/plain": [
       "<IPython.core.display.Markdown object>"
      ]
     },
     "metadata": {},
     "output_type": "display_data"
    },
    {
     "data": {
      "text/markdown": [
       " #### Y:\n",
       "    ['Yemen']"
      ],
      "text/plain": [
       "<IPython.core.display.Markdown object>"
      ]
     },
     "metadata": {},
     "output_type": "display_data"
    },
    {
     "data": {
      "text/markdown": [
       " #### Z:\n",
       "    ['Zambia', 'Zimbabwe']"
      ],
      "text/plain": [
       "<IPython.core.display.Markdown object>"
      ]
     },
     "metadata": {},
     "output_type": "display_data"
    }
   ],
   "source": [
    "from collections import defaultdict\n",
    "def_dict = defaultdict(list)\n",
    "\n",
    "lista_paises = datos_dia_elegido['countriesAndTerritories'].unique()\n",
    "\n",
    "for pais in lista_paises:\n",
    "    def_dict[pais[0]].append(pais)\n",
    "\n",
    "for letra in def_dict.keys():\n",
    "    display(Markdown(f\"\"\" #### {letra}:\n",
    "    {def_dict[letra]}\"\"\")) "
   ]
  },
  {
   "cell_type": "markdown",
   "metadata": {},
   "source": [
    "# Referencias y agradecimientos:\n",
    "\n",
    "- Este recurso está inspirado en el artículo de Matt Makai, el cual recomiendo para quienes sepan programar en Python, pero no estén familiarizados con la librería Pandas.\n",
    "> Makai, M. \"Learning pandas by Exploring COVID-19 Data.\" Full Stack Python. 28 de marzo de 2020. En línea: https://www.fullstackpython.com/blog/learn-pandas-basic-commands-explore-covid-19-data.html \n",
    "- Puedes interactuar con este artículo gracias a:\n",
    "> Jupyter et al., \"Binder 2.0 - Reproducible, Interactive, Sharable Environments for Science at Scale.\" Proceedings of the 17th Python in Science Conference. 2018. doi://10.25080/Majora-4af1f417-011\n",
    "- El fantástico artículo de Tomás pueyo lo pueden encontrar aquí:\n",
    "> Pueyo, T. \"Coronavirus: The Hammer and the Dance.\" Medium. 19 de marzo de 2020. En línea: https://medium.com/@tomaspueyo/coronavirus-the-hammer-and-the-dance-be9337092b56\n",
    "\n",
    "    > Versión en español traducida por Tito Hubert: https://medium.com/tomas-pueyo/coronavirus-el-martillo-y-la-danza-32abc4dd4ebb"
   ]
  }
 ],
 "metadata": {
  "kernelspec": {
   "display_name": "Python 3",
   "language": "python",
   "name": "python3"
  },
  "language_info": {
   "codemirror_mode": {
    "name": "ipython",
    "version": 3
   },
   "file_extension": ".py",
   "mimetype": "text/x-python",
   "name": "python",
   "nbconvert_exporter": "python",
   "pygments_lexer": "ipython3",
   "version": "3.8.1"
  }
 },
 "nbformat": 4,
 "nbformat_minor": 4
}
